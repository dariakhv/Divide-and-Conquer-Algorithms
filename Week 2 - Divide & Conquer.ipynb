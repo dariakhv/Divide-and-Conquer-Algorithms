{
 "cells": [
  {
   "cell_type": "code",
   "execution_count": 5,
   "id": "5ed7c21b",
   "metadata": {},
   "outputs": [],
   "source": [
    "import numpy as np\n",
    "from numpy import loadtxt\n",
    "\n",
    "arr = loadtxt('array.txt', dtype='int')\n",
    "arr = arr//4\n",
    "\n",
    "test = [1,3,5,2,4,6]"
   ]
  },
  {
   "cell_type": "code",
   "execution_count": 6,
   "id": "785afec7",
   "metadata": {},
   "outputs": [],
   "source": [
    "def count_inv(array):\n",
    "    \n",
    "    # base case: array is sorted and there're no inversions\n",
    "    if len(array)==1: \n",
    "        return 0\n",
    "    \n",
    "    #split array\n",
    "    mid = len(array)//2\n",
    "    lhs = array[:mid]\n",
    "    rhs = array[mid:]\n",
    "    \n",
    "    # recursive calls to count inversions\n",
    "    left_count = count_inv(lhs)\n",
    "    right_count = count_inv(rhs)\n",
    "    \n",
    "    merge_count = merge(lhs, rhs)\n",
    "    \n",
    "    total_inv = left_count + right_count + merge_count\n",
    "    \n",
    "    return total_inv\n",
    "\n",
    "def merge(left, right):\n",
    "    \n",
    "    merged=[]\n",
    "    inv_count = 0\n",
    "    i=j=0\n",
    "    \n",
    "    while i<len(left) and j<len(right):\n",
    "        if left[i]<=right[j]:\n",
    "            merged.append(left[i])\n",
    "            i+=1\n",
    "        else:\n",
    "            merged.append(right[j])\n",
    "            j+=1\n",
    "            inv_count += len(left)-i\n",
    "            \n",
    "        merged.extend(left[i:])\n",
    "        merged.extend(right[j:])\n",
    "    \n",
    "    return inv_count"
   ]
  },
  {
   "cell_type": "code",
   "execution_count": 3,
   "id": "fd73a861",
   "metadata": {},
   "outputs": [
    {
     "data": {
      "text/plain": [
       "3"
      ]
     },
     "execution_count": 3,
     "metadata": {},
     "output_type": "execute_result"
    }
   ],
   "source": [
    "count_inv(test)"
   ]
  },
  {
   "cell_type": "code",
   "execution_count": null,
   "id": "38451510",
   "metadata": {},
   "outputs": [],
   "source": [
    "count_inv(arr)"
   ]
  }
 ],
 "metadata": {
  "kernelspec": {
   "display_name": "Python 3 (ipykernel)",
   "language": "python",
   "name": "python3"
  },
  "language_info": {
   "codemirror_mode": {
    "name": "ipython",
    "version": 3
   },
   "file_extension": ".py",
   "mimetype": "text/x-python",
   "name": "python",
   "nbconvert_exporter": "python",
   "pygments_lexer": "ipython3",
   "version": "3.10.13"
  }
 },
 "nbformat": 4,
 "nbformat_minor": 5
}
