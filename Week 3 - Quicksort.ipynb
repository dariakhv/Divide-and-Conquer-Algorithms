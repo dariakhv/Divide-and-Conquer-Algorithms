{
 "cells": [
  {
   "cell_type": "code",
   "execution_count": 1,
   "id": "7cb80532",
   "metadata": {},
   "outputs": [],
   "source": [
    "from numpy import loadtxt\n",
    "\n",
    "arr = loadtxt('Quicksort.txt', dtype='int')\n",
    "\n",
    "test = [3,8,1,4,7,6]"
   ]
  },
  {
   "cell_type": "code",
   "execution_count": 2,
   "id": "2f71ff32",
   "metadata": {},
   "outputs": [],
   "source": [
    "def partition(arr, l, r):\n",
    "    p = arr[l]  # pivot element\n",
    "    i = l + 1\n",
    "\n",
    "    for j in range(l + 1, r + 1):\n",
    "        if arr[j] < p:\n",
    "            arr[i], arr[j] = arr[j], arr[i]\n",
    "            i += 1\n",
    "\n",
    "    arr[l], arr[i - 1] = arr[i - 1], arr[l]  # swap pivots\n",
    "    return i - 1  # index of the pivot\n",
    "\n",
    "def quicksort(arr, l, r, pivot_rule):\n",
    "    if l < r:\n",
    "        comparisons = r - l  # Count comparisons within this subarray\n",
    "\n",
    "        if pivot_rule == 'first':\n",
    "            p_index = l\n",
    "        elif pivot_rule == 'last':\n",
    "            p_index = r\n",
    "        elif pivot_rule == 'median':\n",
    "            \n",
    "            first_val = arr[l]\n",
    "            last_val = arr[r]\n",
    "            middle_index =  l+(r-l)// 2\n",
    "            middle_val = arr[middle_index]\n",
    "            #print(middle_val)\n",
    "\n",
    "            # Find the median of the three values\n",
    "            median_of_three = sorted([(first_val, l), (middle_val, middle_index), (last_val, r)])[1]\n",
    "            p_index = median_of_three[1]\n",
    "            \n",
    "        # swap chosen pivot with the first element\n",
    "        arr[l], arr[p_index] = arr[p_index], arr[l]\n",
    "\n",
    "        # partition the array\n",
    "        p_index = partition(arr, l, r)\n",
    "\n",
    "        # Recursively sort the left and right subarrays\n",
    "        left_side = quicksort(arr, l, p_index - 1, pivot_rule)\n",
    "        right_side = quicksort(arr, p_index + 1, r, pivot_rule)\n",
    "\n",
    "        total = comparisons + left_side + right_side\n",
    "    else:\n",
    "        total = 0  # Subarray of length 1 or less, no comparisons\n",
    "\n",
    "    return total\n",
    "\n",
    "    \n"
   ]
  },
  {
   "cell_type": "code",
   "execution_count": 3,
   "id": "46a666d6",
   "metadata": {},
   "outputs": [
    {
     "data": {
      "text/plain": [
       "138382"
      ]
     },
     "execution_count": 3,
     "metadata": {},
     "output_type": "execute_result"
    }
   ],
   "source": [
    "quicksort(arr, 0, len(arr)-1, \"median\")\n",
    "\n"
   ]
  },
  {
   "cell_type": "code",
   "execution_count": 4,
   "id": "3630fbf3",
   "metadata": {},
   "outputs": [
    {
     "data": {
      "text/plain": [
       "9"
      ]
     },
     "execution_count": 4,
     "metadata": {},
     "output_type": "execute_result"
    }
   ],
   "source": [
    "quicksort(test, 0, len(test)-1,\"median\")\n"
   ]
  }
 ],
 "metadata": {
  "kernelspec": {
   "display_name": "Python 3 (ipykernel)",
   "language": "python",
   "name": "python3"
  },
  "language_info": {
   "codemirror_mode": {
    "name": "ipython",
    "version": 3
   },
   "file_extension": ".py",
   "mimetype": "text/x-python",
   "name": "python",
   "nbconvert_exporter": "python",
   "pygments_lexer": "ipython3",
   "version": "3.10.13"
  }
 },
 "nbformat": 4,
 "nbformat_minor": 5
}
