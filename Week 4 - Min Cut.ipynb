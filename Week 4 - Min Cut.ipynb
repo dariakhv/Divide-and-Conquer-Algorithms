{
 "cells": [
  {
   "cell_type": "code",
   "execution_count": 9,
   "id": "ff24f4d6",
   "metadata": {},
   "outputs": [
    {
     "name": "stdout",
     "output_type": "stream",
     "text": [
      "Minimum Cut: 17\n"
     ]
    }
   ],
   "source": [
    "import random\n",
    "\n",
    "def contract(graph, u, v):\n",
    "    # Merge vertex v into vertex u, updating the graph.\n",
    "    graph[u].extend(graph[v])\n",
    "    for w in graph[v]:\n",
    "        graph[w].remove(v)\n",
    "        graph[w].append(u)\n",
    "    while u in graph[u]:\n",
    "        graph[u].remove(u)\n",
    "    del graph[v]\n",
    "\n",
    "def min_cut(graph):\n",
    "    while len(graph) > 2:\n",
    "        # Randomly choose an edge.\n",
    "        u = random.choice(list(graph.keys()))\n",
    "        v = random.choice(graph[u])\n",
    "\n",
    "        # Contract the chosen edge.\n",
    "        contract(graph, u, v)\n",
    "\n",
    "    # Return the size of the minimum cut.\n",
    "    u = list(graph.keys())[0]\n",
    "    return len(graph[u])\n",
    "\n",
    "def load_graph(filename):\n",
    "    graph = {}\n",
    "    with open(filename, 'r') as f:\n",
    "        for line in f:\n",
    "            parts = line.split()\n",
    "            vertex = int(parts[0])\n",
    "            neighbors = [int(x) for x in parts[1:]]\n",
    "            graph[vertex] = neighbors\n",
    "    return graph\n",
    "\n",
    "def main(filename, num_trials):\n",
    "    min_cut_size = float('inf')\n",
    "\n",
    "    for _ in range(num_trials):\n",
    "        graph = load_graph(filename)\n",
    "        cut = min_cut(graph)\n",
    "        if cut < min_cut_size:\n",
    "            min_cut_size = cut\n",
    "\n",
    "    print(\"Minimum Cut:\", min_cut_size)\n",
    "\n",
    "if __name__ == \"__main__\":\n",
    "    filename = \"graph.txt\"  \n",
    "    num_trials = 1000  # Adjust the number of trials as needed\n",
    "    main(filename, num_trials)\n",
    "\n"
   ]
  }
 ],
 "metadata": {
  "kernelspec": {
   "display_name": "Python 3 (ipykernel)",
   "language": "python",
   "name": "python3"
  },
  "language_info": {
   "codemirror_mode": {
    "name": "ipython",
    "version": 3
   },
   "file_extension": ".py",
   "mimetype": "text/x-python",
   "name": "python",
   "nbconvert_exporter": "python",
   "pygments_lexer": "ipython3",
   "version": "3.10.13"
  }
 },
 "nbformat": 4,
 "nbformat_minor": 5
}
