{
 "cells": [
  {
   "cell_type": "code",
   "execution_count": 1,
   "id": "b95e613d",
   "metadata": {},
   "outputs": [
    {
     "name": "stdout",
     "output_type": "stream",
     "text": [
      "Multiplication result: 83810205\n"
     ]
    }
   ],
   "source": [
    "def karatsuba(x, y):\n",
    "    # Base case: If the numbers are single digits, return their product\n",
    "    if x < 10 or y < 10:\n",
    "        return x * y\n",
    "    \n",
    "    # Calculate the number of digits in each number\n",
    "    n = max(len(str(x)), len(str(y)))\n",
    "    m = n // 2\n",
    "\n",
    "    # Split the numbers into two halves\n",
    "    a = x // 10**m\n",
    "    b = x % 10**m\n",
    "    c = y // 10**m\n",
    "    d = y % 10**m\n",
    "\n",
    "    # Recursive calls for three multiplications\n",
    "    ac = karatsuba(a, c)\n",
    "    bd = karatsuba(b, d)\n",
    "    ad_plus_bc = karatsuba(a + b, c + d) - ac - bd\n",
    "\n",
    "    # Combine the results using Karatsuba's formula\n",
    "    result = ac * 10**(2*m) + ad_plus_bc * 10**m + bd\n",
    "\n",
    "    return result\n",
    "\n",
    "# Test the function\n",
    "x = 12345\n",
    "y = 6789\n",
    "result = karatsuba(x, y)\n",
    "print(\"Multiplication result:\", result)"
   ]
  },
  {
   "cell_type": "code",
   "execution_count": 2,
   "id": "750b87b2",
   "metadata": {},
   "outputs": [
    {
     "data": {
      "text/plain": [
       "8539734222673567065463550869546574495034888535765114961879601127067743044893204848617875072216249073013374895871952806582723184"
      ]
     },
     "execution_count": 2,
     "metadata": {},
     "output_type": "execute_result"
    }
   ],
   "source": [
    "x= 3141592653589793238462643383279502884197169399375105820974944592\n",
    "y = 2718281828459045235360287471352662497757247093699959574966967627\n",
    "\n",
    "z = karatsuba(x,y)\n",
    "z"
   ]
  }
 ],
 "metadata": {
  "kernelspec": {
   "display_name": "Python 3 (ipykernel)",
   "language": "python",
   "name": "python3"
  },
  "language_info": {
   "codemirror_mode": {
    "name": "ipython",
    "version": 3
   },
   "file_extension": ".py",
   "mimetype": "text/x-python",
   "name": "python",
   "nbconvert_exporter": "python",
   "pygments_lexer": "ipython3",
   "version": "3.10.13"
  }
 },
 "nbformat": 4,
 "nbformat_minor": 5
}
